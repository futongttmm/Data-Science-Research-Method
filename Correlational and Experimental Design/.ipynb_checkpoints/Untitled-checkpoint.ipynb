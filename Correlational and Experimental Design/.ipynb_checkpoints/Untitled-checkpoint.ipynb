{
 "cells": [
  {
   "cell_type": "markdown",
   "metadata": {},
   "source": [
    "## Correlation\n"
   ]
  },
  {
   "cell_type": "code",
   "execution_count": 33,
   "metadata": {},
   "outputs": [],
   "source": [
    "import pandas as pd\n",
    "import numpy as np\n",
    "import scipy.stats as ss\n",
    "import math\n",
    "import scipy.cluster.hierarchy as sch\n",
    "import seaborn as sns\n",
    "import matplotlib.pyplot as plt\n",
    "\n",
    "%matplotlib inline"
   ]
  },
  {
   "cell_type": "code",
   "execution_count": 34,
   "metadata": {},
   "outputs": [
    {
     "data": {
      "text/html": [
       "<div>\n",
       "<style scoped>\n",
       "    .dataframe tbody tr th:only-of-type {\n",
       "        vertical-align: middle;\n",
       "    }\n",
       "\n",
       "    .dataframe tbody tr th {\n",
       "        vertical-align: top;\n",
       "    }\n",
       "\n",
       "    .dataframe thead th {\n",
       "        text-align: right;\n",
       "    }\n",
       "</style>\n",
       "<table border=\"1\" class=\"dataframe\">\n",
       "  <thead>\n",
       "    <tr style=\"text-align: right;\">\n",
       "      <th></th>\n",
       "      <th>Happiness.Score</th>\n",
       "      <th>Economy..GDP.per.Capita.</th>\n",
       "      <th>Family</th>\n",
       "      <th>Health..Life.Expectancy.</th>\n",
       "      <th>Freedom</th>\n",
       "      <th>Generosity</th>\n",
       "      <th>Trust..Government.Corruption.</th>\n",
       "      <th>Dystopia.Residual</th>\n",
       "    </tr>\n",
       "  </thead>\n",
       "  <tbody>\n",
       "    <tr>\n",
       "      <th>0</th>\n",
       "      <td>7.537</td>\n",
       "      <td>1.616463</td>\n",
       "      <td>1.533524</td>\n",
       "      <td>0.796667</td>\n",
       "      <td>0.635423</td>\n",
       "      <td>0.362012</td>\n",
       "      <td>0.315964</td>\n",
       "      <td>2.277027</td>\n",
       "    </tr>\n",
       "    <tr>\n",
       "      <th>1</th>\n",
       "      <td>7.522</td>\n",
       "      <td>1.482383</td>\n",
       "      <td>1.551122</td>\n",
       "      <td>0.792566</td>\n",
       "      <td>0.626007</td>\n",
       "      <td>0.355280</td>\n",
       "      <td>0.400770</td>\n",
       "      <td>2.313707</td>\n",
       "    </tr>\n",
       "    <tr>\n",
       "      <th>2</th>\n",
       "      <td>7.504</td>\n",
       "      <td>1.480633</td>\n",
       "      <td>1.610574</td>\n",
       "      <td>0.833552</td>\n",
       "      <td>0.627163</td>\n",
       "      <td>0.475540</td>\n",
       "      <td>0.153527</td>\n",
       "      <td>2.322715</td>\n",
       "    </tr>\n",
       "    <tr>\n",
       "      <th>3</th>\n",
       "      <td>7.494</td>\n",
       "      <td>1.564980</td>\n",
       "      <td>1.516912</td>\n",
       "      <td>0.858131</td>\n",
       "      <td>0.620071</td>\n",
       "      <td>0.290549</td>\n",
       "      <td>0.367007</td>\n",
       "      <td>2.276716</td>\n",
       "    </tr>\n",
       "    <tr>\n",
       "      <th>4</th>\n",
       "      <td>7.469</td>\n",
       "      <td>1.443572</td>\n",
       "      <td>1.540247</td>\n",
       "      <td>0.809158</td>\n",
       "      <td>0.617951</td>\n",
       "      <td>0.245483</td>\n",
       "      <td>0.382612</td>\n",
       "      <td>2.430182</td>\n",
       "    </tr>\n",
       "    <tr>\n",
       "      <th>...</th>\n",
       "      <td>...</td>\n",
       "      <td>...</td>\n",
       "      <td>...</td>\n",
       "      <td>...</td>\n",
       "      <td>...</td>\n",
       "      <td>...</td>\n",
       "      <td>...</td>\n",
       "      <td>...</td>\n",
       "    </tr>\n",
       "    <tr>\n",
       "      <th>150</th>\n",
       "      <td>3.471</td>\n",
       "      <td>0.368746</td>\n",
       "      <td>0.945707</td>\n",
       "      <td>0.326425</td>\n",
       "      <td>0.581844</td>\n",
       "      <td>0.252756</td>\n",
       "      <td>0.455220</td>\n",
       "      <td>0.540061</td>\n",
       "    </tr>\n",
       "    <tr>\n",
       "      <th>151</th>\n",
       "      <td>3.462</td>\n",
       "      <td>0.777153</td>\n",
       "      <td>0.396103</td>\n",
       "      <td>0.500533</td>\n",
       "      <td>0.081539</td>\n",
       "      <td>0.493664</td>\n",
       "      <td>0.151347</td>\n",
       "      <td>1.061574</td>\n",
       "    </tr>\n",
       "    <tr>\n",
       "      <th>152</th>\n",
       "      <td>3.349</td>\n",
       "      <td>0.511136</td>\n",
       "      <td>1.041990</td>\n",
       "      <td>0.364509</td>\n",
       "      <td>0.390018</td>\n",
       "      <td>0.354256</td>\n",
       "      <td>0.066035</td>\n",
       "      <td>0.621130</td>\n",
       "    </tr>\n",
       "    <tr>\n",
       "      <th>153</th>\n",
       "      <td>2.905</td>\n",
       "      <td>0.091623</td>\n",
       "      <td>0.629794</td>\n",
       "      <td>0.151611</td>\n",
       "      <td>0.059901</td>\n",
       "      <td>0.204435</td>\n",
       "      <td>0.084148</td>\n",
       "      <td>1.683024</td>\n",
       "    </tr>\n",
       "    <tr>\n",
       "      <th>154</th>\n",
       "      <td>2.693</td>\n",
       "      <td>0.000000</td>\n",
       "      <td>0.000000</td>\n",
       "      <td>0.018773</td>\n",
       "      <td>0.270842</td>\n",
       "      <td>0.280876</td>\n",
       "      <td>0.056565</td>\n",
       "      <td>2.066005</td>\n",
       "    </tr>\n",
       "  </tbody>\n",
       "</table>\n",
       "<p>155 rows × 8 columns</p>\n",
       "</div>"
      ],
      "text/plain": [
       "     Happiness.Score  Economy..GDP.per.Capita.    Family  \\\n",
       "0              7.537                  1.616463  1.533524   \n",
       "1              7.522                  1.482383  1.551122   \n",
       "2              7.504                  1.480633  1.610574   \n",
       "3              7.494                  1.564980  1.516912   \n",
       "4              7.469                  1.443572  1.540247   \n",
       "..               ...                       ...       ...   \n",
       "150            3.471                  0.368746  0.945707   \n",
       "151            3.462                  0.777153  0.396103   \n",
       "152            3.349                  0.511136  1.041990   \n",
       "153            2.905                  0.091623  0.629794   \n",
       "154            2.693                  0.000000  0.000000   \n",
       "\n",
       "     Health..Life.Expectancy.   Freedom  Generosity  \\\n",
       "0                    0.796667  0.635423    0.362012   \n",
       "1                    0.792566  0.626007    0.355280   \n",
       "2                    0.833552  0.627163    0.475540   \n",
       "3                    0.858131  0.620071    0.290549   \n",
       "4                    0.809158  0.617951    0.245483   \n",
       "..                        ...       ...         ...   \n",
       "150                  0.326425  0.581844    0.252756   \n",
       "151                  0.500533  0.081539    0.493664   \n",
       "152                  0.364509  0.390018    0.354256   \n",
       "153                  0.151611  0.059901    0.204435   \n",
       "154                  0.018773  0.270842    0.280876   \n",
       "\n",
       "     Trust..Government.Corruption.  Dystopia.Residual  \n",
       "0                         0.315964           2.277027  \n",
       "1                         0.400770           2.313707  \n",
       "2                         0.153527           2.322715  \n",
       "3                         0.367007           2.276716  \n",
       "4                         0.382612           2.430182  \n",
       "..                             ...                ...  \n",
       "150                       0.455220           0.540061  \n",
       "151                       0.151347           1.061574  \n",
       "152                       0.066035           0.621130  \n",
       "153                       0.084148           1.683024  \n",
       "154                       0.056565           2.066005  \n",
       "\n",
       "[155 rows x 8 columns]"
      ]
     },
     "execution_count": 34,
     "metadata": {},
     "output_type": "execute_result"
    }
   ],
   "source": [
    "data = pd. read_csv(\"datasets/regionalhappy.csv\")\n",
    "data"
   ]
  },
  {
   "cell_type": "code",
   "execution_count": 35,
   "metadata": {},
   "outputs": [
    {
     "data": {
      "text/plain": [
       "Index(['Happiness', 'GDP', 'Family', 'Life_Expect', 'Freedom', 'Generosity',\n",
       "       'Trust_Gov', 'Dystopia'],\n",
       "      dtype='object')"
      ]
     },
     "execution_count": 35,
     "metadata": {},
     "output_type": "execute_result"
    }
   ],
   "source": [
    "# Rename columns\n",
    "data.columns = [\"Happiness\", \"GDP\", \"Family\", \"Life_Expect\", \"Freedom\", \"Generosity\", \"Trust_Gov\", \"Dystopia\"]\n",
    "data.columns"
   ]
  },
  {
   "cell_type": "markdown",
   "metadata": {},
   "source": [
    "## Bivariate Correlation"
   ]
  },
  {
   "cell_type": "code",
   "execution_count": 36,
   "metadata": {},
   "outputs": [
    {
     "data": {
      "text/plain": [
       "0.782"
      ]
     },
     "execution_count": 36,
     "metadata": {},
     "output_type": "execute_result"
    }
   ],
   "source": [
    "corr_mat = data[['Happiness', 'Life_Expect']].corr()\n",
    "corr_mat.iloc[1,0].round(3)"
   ]
  },
  {
   "cell_type": "markdown",
   "metadata": {},
   "source": [
    "We see the correlation is *r* = .78. A brief refresher: correlations\n",
    "range between zero (no association between variables) and 1.0 (a\n",
    "one-to-one association). They can also be positive (as one variable\n",
    "increases, so does the other) or negative (as one variable increases,\n",
    "the other decreases).\n",
    "\n",
    "So, in this case, we have a large, positive link between the happiness\n",
    "of a region and health / life expectancy in that region. The\n",
    "statistician Jacob Cohen suggested the following guidelines:\n",
    "\n",
    "|        | Correlation          | Meaning  |\n",
    "| ------------- |:-------------:|-----------:|\n",
    "| 1.  | 0 - 0.1 | Negligible |\n",
    "| 2.  | 0.1 - 0.3     |  Small |\n",
    "| 3. | 0.3 - 0.5      |  Medium |\n",
    "| 4. | 0.50 +      |  Large |"
   ]
  },
  {
   "cell_type": "code",
   "execution_count": 37,
   "metadata": {},
   "outputs": [
    {
     "data": {
      "text/plain": [
       "<matplotlib.axes._subplots.AxesSubplot at 0x27e557c5288>"
      ]
     },
     "execution_count": 37,
     "metadata": {},
     "output_type": "execute_result"
    },
    {
     "data": {
      "image/png": "[encoded data removed]",
      "text/plain": [
       "<Figure size 576x576 with 1 Axes>"
      ]
     },
     "metadata": {
      "needs_background": "light"
     },
     "output_type": "display_data"
    }
   ],
   "source": [
    "# Visualize the correlation between those variables\n",
    "ax = plt.figure(figsize=(8, 8)).gca() # define axis\n",
    "data.plot.scatter(x = 'Happiness', y = 'Life_Expect', ax = ax, alpha = 0.4)"
   ]
  },
  {
   "cell_type": "markdown",
   "metadata": {},
   "source": [
    "\n",
    "\n",
    "### A Sample Estimate\n",
    "\n",
    "Here is a brief refresher on the need for significance\n",
    "testing, applied to correlation.\n",
    "\n",
    "Here, are working with a sample of regions at one point in time. Assuming our data are representative of\n",
    "the broader population (e.g., across times, regions, etc.; a big\n",
    "assumption!), we could use this sample correlation (symbol: *r* = .78)\n",
    "as an estimate of the population correlation (symbol: *ρ*). In other\n",
    "words, we don't know the true correlation between happiness and life\n",
    "expectancy in the population, but if we can trust this data to\n",
    "adequately represent it, we can *estimate* it at .78.\n",
    "\n",
    "The estimation piece is important. Often, people look at the sample\n",
    "correlation and don't realize that it's specific to that sample. For\n",
    "example, an organization might collect a survey to assess the link\n",
    "between customer satisfaction and consumption. Whatever correlation\n",
    "observed in the sample is **only an estimate**--our best guess--of the\n",
    "correlation in the broader population. Were that organization to collect\n",
    "another sample, they would get a different correlation. Every time, the\n",
    "correlation would vary slightly, because the sample is different and\n",
    "only representing (but not being) the population. This raises an\n",
    "important point: sample correlations are imperfect estimates of their\n",
    "population counterparts. **The sample estimate has error built into it.**\n",
    "\n",
    "One important consequence is that it is possible that the correlation in\n",
    "the population is actually zero (*H*<sub>0</sub> : *ρ* = 0) even when it\n",
    "is not in the sample (e.g., *r* = .12). In other words, **the sample\n",
    "correlation could be a statistical fluke of the sample**. We cannot say,\n",
    "just because the sample correlation is nonzero, that the two variables\n",
    "truly are correlated in the population. We will need to conduct a\n",
    "statistical significance test first.\n",
    "\n",
    "Further, we can *only* trust the sample correlation as an estimate of\n",
    "the population correlation *if* the data are representative. If only a\n",
    "certain kind of person selects into the survey (e.g., a certain\n",
    "personality type, people who have strong feelings about a product,\n",
    "etc.), then the sample correlation will estimate the correlation for\n",
    "*that population only.* This essentially means that **all research data is\n",
    "biased toward whoever is over-represented in the sample**. For this\n",
    "reason, getting good information on whoever is represented in one's data\n",
    "is very important for qualifying the results. In some cases, it may be\n",
    "worth it to gather data from multiple different sources or methods and\n",
    "cross-reference the results for very important decisions.\n",
    "\n",
    "### Significance Test\n",
    "If we want to test the correlation for significance, we can use the 'pearsonr' function from the scipy.stats modules. "
   ]
  },
  {
   "cell_type": "code",
   "execution_count": 38,
   "metadata": {},
   "outputs": [
    {
     "name": "stdout",
     "output_type": "stream",
     "text": [
      "Correlation = 0.782 with CI of 0.757 to 0.805 and p_value 3.213e-33\n"
     ]
    }
   ],
   "source": [
    "def r_z(r): ## transform distribution\n",
    "    return math.log((1 + r) / (1 - r)) / 2.0\n",
    "\n",
    "def z_r(z): ## inverse transform distribution \n",
    "    e = math.exp(2 * z)\n",
    "    return((e - 1) / (e + 1))\n",
    "\n",
    "def r_conf_int(r, alpha, n):\n",
    "    # Transform r to z space\n",
    "    z = r_z(r)\n",
    "    # Compute standard error and critcal value in z\n",
    "    se = 1.0 / math.sqrt(n - 3)\n",
    "    z_crit = ss.norm.ppf(1 - alpha/2)\n",
    "\n",
    "    ## Compute CIs with transform to r\n",
    "    lo = z_r(z - z_crit * se)\n",
    "    hi = z_r(z + z_crit * se)\n",
    "    return (lo, hi)\n",
    "\n",
    "def correlation_sig(df, col1, col2):\n",
    "    pearson_cor = ss.pearsonr(x = df[col1], y = df[col2])\n",
    "    conf_ints = r_conf_int(pearson_cor[0], 0.05, 1000)\n",
    "    print('Correlation = %4.3f with CI of %4.3f to %4.3f and p_value %4.3e' \n",
    "        % (pearson_cor[0], conf_ints[0], conf_ints[1], pearson_cor[1]))\n",
    "    \n",
    "correlation_sig(data, 'Happiness', 'Life_Expect')    "
   ]
  },
  {
   "cell_type": "markdown",
   "metadata": {},
   "source": [
    "The confidence interval is fairly narrow around the correlation coefficient. \n",
    "\n",
    "Using the same information, we can make a reasonable guess about what\n",
    "the correlation in the population is. We see that `cor.test()` has given\n",
    "us a 95% confidence interval of \\[0.71, 0.84\\], meaning that we are 95%\n",
    "confident that the population value (*ρ*) is in that range. By \"95%\n",
    "confident,\" we mean that this range includes the population value 95% of\n",
    "the time. If we act on it and trust it, we are right 95% of the time.\n",
    "\n",
    "So, we are pretty certain that, even though we have a sample (a small\n",
    "sample, too!), that there is a large correlation in the population\n",
    "between happiness and life satisfaction. Even after taking the\n",
    "uncertainty of our sample into account (e.g., with the *t*-test and 95%\n",
    "CI), we still feel confident that there is a larger link between these\n",
    "two variables.\n",
    "\n",
    "## Caveat: Normality\n",
    "\n",
    "It should be noted that correlations work best with normally distributed\n",
    "(bell curve, symmetrical) data. We can briefly check the skew of the\n",
    "variables:"
   ]
  },
  {
   "cell_type": "code",
   "execution_count": 39,
   "metadata": {},
   "outputs": [
    {
     "data": {
      "image/png": "[encoded data removed]",
      "text/plain": [
       "<Figure size 576x432 with 1 Axes>"
      ]
     },
     "metadata": {
      "needs_background": "light"
     },
     "output_type": "display_data"
    },
    {
     "data": {
      "image/png": "[encoded data removed]",
      "text/plain": [
       "<Figure size 576x432 with 1 Axes>"
      ]
     },
     "metadata": {
      "needs_background": "light"
     },
     "output_type": "display_data"
    }
   ],
   "source": [
    "def plot_hist(df, col):    \n",
    "    ax = plt.figure(figsize=(8, 6)).gca() # define axis\n",
    "    df[col].plot.hist(ax = ax, alpha = 0.4)\n",
    "    plt.title('Histogram of ' + col)\n",
    "    plt.xlabel(col)\n",
    "\n",
    "plot_hist(data, 'Happiness')\n",
    "plot_hist(data, 'Life_Expect')"
   ]
  },
  {
   "cell_type": "markdown",
   "metadata": {},
   "source": [
    "We see here that both variables are decently normally distributed, but\n",
    "life expectancy is possibly negative skewed (i.e., \"skew left\"). We can\n",
    "get a metric of the skew using the `skewtest()` function from the Scipy.Stats\n",
    "package:"
   ]
  },
  {
   "cell_type": "code",
   "execution_count": 40,
   "metadata": {},
   "outputs": [
    {
     "data": {
      "text/plain": [
       "SkewtestResult(statistic=0.05018342604501572, pvalue=0.9599762190117113)"
      ]
     },
     "execution_count": 40,
     "metadata": {},
     "output_type": "execute_result"
    }
   ],
   "source": [
    "skew = ss.skewtest(data.Happiness)\n",
    "skew"
   ]
  },
  {
   "cell_type": "markdown",
   "metadata": {},
   "source": [
    "People disagree about what is acceptable skew, but usually a value less\n",
    "than +/- 1.0 raises no alarms. Further, the p-value is rather large indicating we cannot reject the null hypothesis that there is no skew. However, if we had a bigger skew problem, we could also address the skew\n",
    "by transforming the variable.\n",
    "\n",
    "Correlations are based on variance, so anything that biases a mean\n",
    "(e.g., skew) also interferes with the correlation. In general, skew\n",
    "reduces correlations. For a more robust test of the correlation, you can\n",
    "transform the data by performing a mathematical operation to every\n",
    "score. There are many such operations we can try. In general, **taking the\n",
    "square root of every score reduces skew**, but the catch is that the\n",
    "variable must be positively skewed and no scores may be negative."
   ]
  },
  {
   "cell_type": "code",
   "execution_count": 41,
   "metadata": {},
   "outputs": [],
   "source": [
    "# \"reverse\" the variable. \n",
    "# Take the maximum score, add one to it, and subtract your score\n",
    "data['Life_Expect_reverse']= max(data.Life_Expect) + 1 - data.Life_Expect"
   ]
  },
  {
   "cell_type": "code",
   "execution_count": 42,
   "metadata": {},
   "outputs": [],
   "source": [
    "# Square the reversed variable\n",
    "data['Life_Expect_reverse_sqrt'] = data.Life_Expect_reverse.apply(math.sqrt)"
   ]
  },
  {
   "cell_type": "code",
   "execution_count": 43,
   "metadata": {},
   "outputs": [
    {
     "data": {
      "image/png": "[encoded data removed]",
      "text/plain": [
       "<Figure size 576x432 with 1 Axes>"
      ]
     },
     "metadata": {
      "needs_background": "light"
     },
     "output_type": "display_data"
    }
   ],
   "source": [
    "plot_hist(data, 'Life_Expect_reverse')"
   ]
  },
  {
   "cell_type": "code",
   "execution_count": 44,
   "metadata": {},
   "outputs": [
    {
     "name": "stdout",
     "output_type": "stream",
     "text": [
      "Correlation = 0.786 with CI of 0.762 to 0.809 and p_value 7.978e-34\n"
     ]
    }
   ],
   "source": [
    "## un-reverse the variable\n",
    "data['Life_Expect_reverse']= \\\n",
    "    max(data.Life_Expect_reverse_sqrt) + 1 - data.Life_Expect_reverse_sqrt\n",
    "\n",
    "## compute correlation of new variable and test statistics\n",
    "correlation_sig(data, 'Happiness', 'Life_Expect_reverse')  "
   ]
  },
  {
   "cell_type": "markdown",
   "metadata": {},
   "source": [
    "We see here the results barely changed. In this case, that wasn't really\n",
    "necessary because the variable was not that skewed to begin with. You\n",
    "will find, in many cases, that it is very helpful, however. In those\n",
    "cases, there are many online guides to data transformation.\n",
    "\n",
    "Of course, if you are predicting something that has a very non-normal\n",
    "distribution (e.g., categorical variables, counts of things often have\n",
    "many zeros, etc.) then correlation may not be the best tool to use. A\n",
    "more sophisticated data modeling technique may be warranted.\n",
    "\n",
    "## Correlations Among Many Variables\n",
    "\n",
    "Often we want to examine the correlations among many variables at once.\n",
    "In this case, we could look at a matrix of correlations. This can be\n",
    "done using the `corr()` method on a pandas data frame. \n",
    "\n",
    "We can easily see that happiness, life expectancy, and GDP are all\n",
    "highly intercorrelated, whereas generosity is seemingly less related.\n",
    "Thus, we may conceive that we have a \"cluster\" of intercorrelated\n",
    "variables around happiness."
   ]
  },
  {
   "cell_type": "code",
   "execution_count": 45,
   "metadata": {},
   "outputs": [
    {
     "data": {
      "text/html": [
       "<div>\n",
       "<style scoped>\n",
       "    .dataframe tbody tr th:only-of-type {\n",
       "        vertical-align: middle;\n",
       "    }\n",
       "\n",
       "    .dataframe tbody tr th {\n",
       "        vertical-align: top;\n",
       "    }\n",
       "\n",
       "    .dataframe thead th {\n",
       "        text-align: right;\n",
       "    }\n",
       "</style>\n",
       "<table border=\"1\" class=\"dataframe\">\n",
       "  <thead>\n",
       "    <tr style=\"text-align: right;\">\n",
       "      <th></th>\n",
       "      <th>Happiness</th>\n",
       "      <th>Life_Expect</th>\n",
       "      <th>Generosity</th>\n",
       "    </tr>\n",
       "  </thead>\n",
       "  <tbody>\n",
       "    <tr>\n",
       "      <th>Happiness</th>\n",
       "      <td>1.000000</td>\n",
       "      <td>0.781951</td>\n",
       "      <td>0.155256</td>\n",
       "    </tr>\n",
       "    <tr>\n",
       "      <th>Life_Expect</th>\n",
       "      <td>0.781951</td>\n",
       "      <td>1.000000</td>\n",
       "      <td>0.063191</td>\n",
       "    </tr>\n",
       "    <tr>\n",
       "      <th>Generosity</th>\n",
       "      <td>0.155256</td>\n",
       "      <td>0.063191</td>\n",
       "      <td>1.000000</td>\n",
       "    </tr>\n",
       "  </tbody>\n",
       "</table>\n",
       "</div>"
      ],
      "text/plain": [
       "             Happiness  Life_Expect  Generosity\n",
       "Happiness     1.000000     0.781951    0.155256\n",
       "Life_Expect   0.781951     1.000000    0.063191\n",
       "Generosity    0.155256     0.063191    1.000000"
      ]
     },
     "execution_count": 45,
     "metadata": {},
     "output_type": "execute_result"
    }
   ],
   "source": [
    "data[['Happiness', 'Life_Expect', 'Generosity']].corr()"
   ]
  },
  {
   "cell_type": "markdown",
   "metadata": {},
   "source": [
    "#### Clustering\n",
    "\n",
    "Make some helpful visuals to view this cluster (a cluster of several overlapping variables). "
   ]
  },
  {
   "cell_type": "code",
   "execution_count": 46,
   "metadata": {},
   "outputs": [
    {
     "data": {
      "text/plain": [
       "<matplotlib.axes._subplots.AxesSubplot at 0x27e55965608>"
      ]
     },
     "execution_count": 46,
     "metadata": {},
     "output_type": "execute_result"
    },
    {
     "data": {
      "image/png": "[encoded data removed]",
      "text/plain": [
       "<Figure size 432x288 with 2 Axes>"
      ]
     },
     "metadata": {
      "needs_background": "light"
     },
     "output_type": "display_data"
    }
   ],
   "source": [
    "# Compute the correlation matrix\n",
    "corrs = data.drop(['Life_Expect_reverse', 'Life_Expect_reverse_sqrt'], axis = 1).corr()\n",
    "\n",
    "# Create the hierarchical clustering model\n",
    "dist = sch.distance.pdist(corrs)   # vector of pairwise distances using correlations\n",
    "linkage = sch.linkage(dist, method='complete') # Compute the linkages for the clusters\n",
    "ind = sch.fcluster(linkage, 0.5*dist.max(), 'distance')  # Apply the clustering algorithm\n",
    "\n",
    "# Order the columns of the correlaton matrix according to the hierarchy\n",
    "columns = [corrs.columns.tolist()[i] for i in list((np.argsort(ind)))]  # Order the names for the result\n",
    "corrs_clustered = corrs.reindex(columns) ## Reindex the columns following the heirarchy \n",
    "\n",
    "# Plot a heat map of the clustered correlations\n",
    "sns.heatmap(corrs_clustered, \n",
    "            xticklabels=corrs_clustered.columns.values,\n",
    "            yticklabels=corrs_clustered.columns.values)"
   ]
  },
  {
   "cell_type": "markdown",
   "metadata": {},
   "source": [
    "\n",
    "Here we see there is a prominent cluster of happiness, family, life expectancy, and GDP. These are all highly inter-correlated. You can see this from the bright spot in the heat map.\n",
    "\n",
    "#### Another Correlation Plot\n",
    "\n",
    "With small number variables, it can be useful to display the correlation matrix with the numerical values."
   ]
  },
  {
   "cell_type": "code",
   "execution_count": 47,
   "metadata": {},
   "outputs": [
    {
     "data": {
      "text/html": [
       "<style  type=\"text/css\" >\n",
       "    #T_d72bac50_b0eb_11ea_8cba_80c5f274aaferow0_col0 {\n",
       "            background-color:  #023858;\n",
       "            color:  #f1f1f1;\n",
       "        }    #T_d72bac50_b0eb_11ea_8cba_80c5f274aaferow0_col1 {\n",
       "            background-color:  #04649e;\n",
       "            color:  #f1f1f1;\n",
       "        }    #T_d72bac50_b0eb_11ea_8cba_80c5f274aaferow0_col2 {\n",
       "            background-color:  #0872b1;\n",
       "            color:  #f1f1f1;\n",
       "        }    #T_d72bac50_b0eb_11ea_8cba_80c5f274aaferow0_col3 {\n",
       "            background-color:  #056dab;\n",
       "            color:  #f1f1f1;\n",
       "        }    #T_d72bac50_b0eb_11ea_8cba_80c5f274aaferow0_col4 {\n",
       "            background-color:  #63a2cb;\n",
       "            color:  #000000;\n",
       "        }    #T_d72bac50_b0eb_11ea_8cba_80c5f274aaferow0_col5 {\n",
       "            background-color:  #d2d2e7;\n",
       "            color:  #000000;\n",
       "        }    #T_d72bac50_b0eb_11ea_8cba_80c5f274aaferow0_col6 {\n",
       "            background-color:  #8bb2d4;\n",
       "            color:  #000000;\n",
       "        }    #T_d72bac50_b0eb_11ea_8cba_80c5f274aaferow0_col7 {\n",
       "            background-color:  #65a3cb;\n",
       "            color:  #000000;\n",
       "        }    #T_d72bac50_b0eb_11ea_8cba_80c5f274aaferow1_col0 {\n",
       "            background-color:  #056ba7;\n",
       "            color:  #f1f1f1;\n",
       "        }    #T_d72bac50_b0eb_11ea_8cba_80c5f274aaferow1_col1 {\n",
       "            background-color:  #023858;\n",
       "            color:  #f1f1f1;\n",
       "        }    #T_d72bac50_b0eb_11ea_8cba_80c5f274aaferow1_col2 {\n",
       "            background-color:  #2484ba;\n",
       "            color:  #000000;\n",
       "        }    #T_d72bac50_b0eb_11ea_8cba_80c5f274aaferow1_col3 {\n",
       "            background-color:  #046198;\n",
       "            color:  #f1f1f1;\n",
       "        }    #T_d72bac50_b0eb_11ea_8cba_80c5f274aaferow1_col4 {\n",
       "            background-color:  #bbc7e0;\n",
       "            color:  #000000;\n",
       "        }    #T_d72bac50_b0eb_11ea_8cba_80c5f274aaferow1_col5 {\n",
       "            background-color:  #f2ecf5;\n",
       "            color:  #000000;\n",
       "        }    #T_d72bac50_b0eb_11ea_8cba_80c5f274aaferow1_col6 {\n",
       "            background-color:  #a9bfdc;\n",
       "            color:  #000000;\n",
       "        }    #T_d72bac50_b0eb_11ea_8cba_80c5f274aaferow1_col7 {\n",
       "            background-color:  #ece7f2;\n",
       "            color:  #000000;\n",
       "        }    #T_d72bac50_b0eb_11ea_8cba_80c5f274aaferow2_col0 {\n",
       "            background-color:  #157ab5;\n",
       "            color:  #000000;\n",
       "        }    #T_d72bac50_b0eb_11ea_8cba_80c5f274aaferow2_col1 {\n",
       "            background-color:  #1b7eb7;\n",
       "            color:  #000000;\n",
       "        }    #T_d72bac50_b0eb_11ea_8cba_80c5f274aaferow2_col2 {\n",
       "            background-color:  #023858;\n",
       "            color:  #f1f1f1;\n",
       "        }    #T_d72bac50_b0eb_11ea_8cba_80c5f274aaferow2_col3 {\n",
       "            background-color:  #4897c4;\n",
       "            color:  #000000;\n",
       "        }    #T_d72bac50_b0eb_11ea_8cba_80c5f274aaferow2_col4 {\n",
       "            background-color:  #a7bddb;\n",
       "            color:  #000000;\n",
       "        }    #T_d72bac50_b0eb_11ea_8cba_80c5f274aaferow2_col5 {\n",
       "            background-color:  #e7e3f0;\n",
       "            color:  #000000;\n",
       "        }    #T_d72bac50_b0eb_11ea_8cba_80c5f274aaferow2_col6 {\n",
       "            background-color:  #d1d2e6;\n",
       "            color:  #000000;\n",
       "        }    #T_d72bac50_b0eb_11ea_8cba_80c5f274aaferow2_col7 {\n",
       "            background-color:  #e3e0ee;\n",
       "            color:  #000000;\n",
       "        }    #T_d72bac50_b0eb_11ea_8cba_80c5f274aaferow3_col0 {\n",
       "            background-color:  #0872b1;\n",
       "            color:  #f1f1f1;\n",
       "        }    #T_d72bac50_b0eb_11ea_8cba_80c5f274aaferow3_col1 {\n",
       "            background-color:  #045f95;\n",
       "            color:  #f1f1f1;\n",
       "        }    #T_d72bac50_b0eb_11ea_8cba_80c5f274aaferow3_col2 {\n",
       "            background-color:  #4697c4;\n",
       "            color:  #000000;\n",
       "        }    #T_d72bac50_b0eb_11ea_8cba_80c5f274aaferow3_col3 {\n",
       "            background-color:  #023858;\n",
       "            color:  #f1f1f1;\n",
       "        }    #T_d72bac50_b0eb_11ea_8cba_80c5f274aaferow3_col4 {\n",
       "            background-color:  #c2cbe2;\n",
       "            color:  #000000;\n",
       "        }    #T_d72bac50_b0eb_11ea_8cba_80c5f274aaferow3_col5 {\n",
       "            background-color:  #e4e1ef;\n",
       "            color:  #000000;\n",
       "        }    #T_d72bac50_b0eb_11ea_8cba_80c5f274aaferow3_col6 {\n",
       "            background-color:  #c1cae2;\n",
       "            color:  #000000;\n",
       "        }    #T_d72bac50_b0eb_11ea_8cba_80c5f274aaferow3_col7 {\n",
       "            background-color:  #e6e2ef;\n",
       "            color:  #000000;\n",
       "        }    #T_d72bac50_b0eb_11ea_8cba_80c5f274aaferow4_col0 {\n",
       "            background-color:  #78abd0;\n",
       "            color:  #000000;\n",
       "        }    #T_d72bac50_b0eb_11ea_8cba_80c5f274aaferow4_col1 {\n",
       "            background-color:  #a4bcda;\n",
       "            color:  #000000;\n",
       "        }    #T_d72bac50_b0eb_11ea_8cba_80c5f274aaferow4_col2 {\n",
       "            background-color:  #9fbad9;\n",
       "            color:  #000000;\n",
       "        }    #T_d72bac50_b0eb_11ea_8cba_80c5f274aaferow4_col3 {\n",
       "            background-color:  #bcc7e1;\n",
       "            color:  #000000;\n",
       "        }    #T_d72bac50_b0eb_11ea_8cba_80c5f274aaferow4_col4 {\n",
       "            background-color:  #023858;\n",
       "            color:  #f1f1f1;\n",
       "        }    #T_d72bac50_b0eb_11ea_8cba_80c5f274aaferow4_col5 {\n",
       "            background-color:  #a1bbda;\n",
       "            color:  #000000;\n",
       "        }    #T_d72bac50_b0eb_11ea_8cba_80c5f274aaferow4_col6 {\n",
       "            background-color:  #6fa7ce;\n",
       "            color:  #000000;\n",
       "        }    #T_d72bac50_b0eb_11ea_8cba_80c5f274aaferow4_col7 {\n",
       "            background-color:  #e0deed;\n",
       "            color:  #000000;\n",
       "        }    #T_d72bac50_b0eb_11ea_8cba_80c5f274aaferow5_col0 {\n",
       "            background-color:  #b8c6e0;\n",
       "            color:  #000000;\n",
       "        }    #T_d72bac50_b0eb_11ea_8cba_80c5f274aaferow5_col1 {\n",
       "            background-color:  #abbfdc;\n",
       "            color:  #000000;\n",
       "        }    #T_d72bac50_b0eb_11ea_8cba_80c5f274aaferow5_col2 {\n",
       "            background-color:  #dedcec;\n",
       "            color:  #000000;\n",
       "        }    #T_d72bac50_b0eb_11ea_8cba_80c5f274aaferow5_col3 {\n",
       "            background-color:  #d3d4e7;\n",
       "            color:  #000000;\n",
       "        }    #T_d72bac50_b0eb_11ea_8cba_80c5f274aaferow5_col4 {\n",
       "            background-color:  #86b0d3;\n",
       "            color:  #000000;\n",
       "        }    #T_d72bac50_b0eb_11ea_8cba_80c5f274aaferow5_col5 {\n",
       "            background-color:  #a8bedc;\n",
       "            color:  #000000;\n",
       "        }    #T_d72bac50_b0eb_11ea_8cba_80c5f274aaferow5_col6 {\n",
       "            background-color:  #023858;\n",
       "            color:  #f1f1f1;\n",
       "        }    #T_d72bac50_b0eb_11ea_8cba_80c5f274aaferow5_col7 {\n",
       "            background-color:  #f2ecf5;\n",
       "            color:  #000000;\n",
       "        }    #T_d72bac50_b0eb_11ea_8cba_80c5f274aaferow6_col0 {\n",
       "            background-color:  #fff7fb;\n",
       "            color:  #000000;\n",
       "        }    #T_d72bac50_b0eb_11ea_8cba_80c5f274aaferow6_col1 {\n",
       "            background-color:  #fff7fb;\n",
       "            color:  #000000;\n",
       "        }    #T_d72bac50_b0eb_11ea_8cba_80c5f274aaferow6_col2 {\n",
       "            background-color:  #fff7fb;\n",
       "            color:  #000000;\n",
       "        }    #T_d72bac50_b0eb_11ea_8cba_80c5f274aaferow6_col3 {\n",
       "            background-color:  #fef6fa;\n",
       "            color:  #000000;\n",
       "        }    #T_d72bac50_b0eb_11ea_8cba_80c5f274aaferow6_col4 {\n",
       "            background-color:  #ced0e6;\n",
       "            color:  #000000;\n",
       "        }    #T_d72bac50_b0eb_11ea_8cba_80c5f274aaferow6_col5 {\n",
       "            background-color:  #023858;\n",
       "            color:  #f1f1f1;\n",
       "        }    #T_d72bac50_b0eb_11ea_8cba_80c5f274aaferow6_col6 {\n",
       "            background-color:  #bcc7e1;\n",
       "            color:  #000000;\n",
       "        }    #T_d72bac50_b0eb_11ea_8cba_80c5f274aaferow6_col7 {\n",
       "            background-color:  #fff7fb;\n",
       "            color:  #000000;\n",
       "        }    #T_d72bac50_b0eb_11ea_8cba_80c5f274aaferow7_col0 {\n",
       "            background-color:  #a4bcda;\n",
       "            color:  #000000;\n",
       "        }    #T_d72bac50_b0eb_11ea_8cba_80c5f274aaferow7_col1 {\n",
       "            background-color:  #f9f2f8;\n",
       "            color:  #000000;\n",
       "        }    #T_d72bac50_b0eb_11ea_8cba_80c5f274aaferow7_col2 {\n",
       "            background-color:  #fcf4fa;\n",
       "            color:  #000000;\n",
       "        }    #T_d72bac50_b0eb_11ea_8cba_80c5f274aaferow7_col3 {\n",
       "            background-color:  #fff7fb;\n",
       "            color:  #000000;\n",
       "        }    #T_d72bac50_b0eb_11ea_8cba_80c5f274aaferow7_col4 {\n",
       "            background-color:  #fff7fb;\n",
       "            color:  #000000;\n",
       "        }    #T_d72bac50_b0eb_11ea_8cba_80c5f274aaferow7_col5 {\n",
       "            background-color:  #fff7fb;\n",
       "            color:  #000000;\n",
       "        }    #T_d72bac50_b0eb_11ea_8cba_80c5f274aaferow7_col6 {\n",
       "            background-color:  #fff7fb;\n",
       "            color:  #000000;\n",
       "        }    #T_d72bac50_b0eb_11ea_8cba_80c5f274aaferow7_col7 {\n",
       "            background-color:  #023858;\n",
       "            color:  #f1f1f1;\n",
       "        }</style><table id=\"T_d72bac50_b0eb_11ea_8cba_80c5f274aafe\" ><thead>    <tr>        <th class=\"blank level0\" ></th>        <th class=\"col_heading level0 col0\" >Happiness</th>        <th class=\"col_heading level0 col1\" >GDP</th>        <th class=\"col_heading level0 col2\" >Family</th>        <th class=\"col_heading level0 col3\" >Life_Expect</th>        <th class=\"col_heading level0 col4\" >Freedom</th>        <th class=\"col_heading level0 col5\" >Generosity</th>        <th class=\"col_heading level0 col6\" >Trust_Gov</th>        <th class=\"col_heading level0 col7\" >Dystopia</th>    </tr></thead><tbody>\n",
       "                <tr>\n",
       "                        <th id=\"T_d72bac50_b0eb_11ea_8cba_80c5f274aafelevel0_row0\" class=\"row_heading level0 row0\" >Happiness</th>\n",
       "                        <td id=\"T_d72bac50_b0eb_11ea_8cba_80c5f274aaferow0_col0\" class=\"data row0 col0\" >1.00</td>\n",
       "                        <td id=\"T_d72bac50_b0eb_11ea_8cba_80c5f274aaferow0_col1\" class=\"data row0 col1\" >0.81</td>\n",
       "                        <td id=\"T_d72bac50_b0eb_11ea_8cba_80c5f274aaferow0_col2\" class=\"data row0 col2\" >0.75</td>\n",
       "                        <td id=\"T_d72bac50_b0eb_11ea_8cba_80c5f274aaferow0_col3\" class=\"data row0 col3\" >0.78</td>\n",
       "                        <td id=\"T_d72bac50_b0eb_11ea_8cba_80c5f274aaferow0_col4\" class=\"data row0 col4\" >0.57</td>\n",
       "                        <td id=\"T_d72bac50_b0eb_11ea_8cba_80c5f274aaferow0_col5\" class=\"data row0 col5\" >0.16</td>\n",
       "                        <td id=\"T_d72bac50_b0eb_11ea_8cba_80c5f274aaferow0_col6\" class=\"data row0 col6\" >0.43</td>\n",
       "                        <td id=\"T_d72bac50_b0eb_11ea_8cba_80c5f274aaferow0_col7\" class=\"data row0 col7\" >0.48</td>\n",
       "            </tr>\n",
       "            <tr>\n",
       "                        <th id=\"T_d72bac50_b0eb_11ea_8cba_80c5f274aafelevel0_row1\" class=\"row_heading level0 row1\" >GDP</th>\n",
       "                        <td id=\"T_d72bac50_b0eb_11ea_8cba_80c5f274aaferow1_col0\" class=\"data row1 col0\" >0.81</td>\n",
       "                        <td id=\"T_d72bac50_b0eb_11ea_8cba_80c5f274aaferow1_col1\" class=\"data row1 col1\" >1.00</td>\n",
       "                        <td id=\"T_d72bac50_b0eb_11ea_8cba_80c5f274aaferow1_col2\" class=\"data row1 col2\" >0.69</td>\n",
       "                        <td id=\"T_d72bac50_b0eb_11ea_8cba_80c5f274aaferow1_col3\" class=\"data row1 col3\" >0.84</td>\n",
       "                        <td id=\"T_d72bac50_b0eb_11ea_8cba_80c5f274aaferow1_col4\" class=\"data row1 col4\" >0.37</td>\n",
       "                        <td id=\"T_d72bac50_b0eb_11ea_8cba_80c5f274aaferow1_col5\" class=\"data row1 col5\" >-0.02</td>\n",
       "                        <td id=\"T_d72bac50_b0eb_11ea_8cba_80c5f274aaferow1_col6\" class=\"data row1 col6\" >0.35</td>\n",
       "                        <td id=\"T_d72bac50_b0eb_11ea_8cba_80c5f274aaferow1_col7\" class=\"data row1 col7\" >0.02</td>\n",
       "            </tr>\n",
       "            <tr>\n",
       "                        <th id=\"T_d72bac50_b0eb_11ea_8cba_80c5f274aafelevel0_row2\" class=\"row_heading level0 row2\" >Family</th>\n",
       "                        <td id=\"T_d72bac50_b0eb_11ea_8cba_80c5f274aaferow2_col0\" class=\"data row2 col0\" >0.75</td>\n",
       "                        <td id=\"T_d72bac50_b0eb_11ea_8cba_80c5f274aaferow2_col1\" class=\"data row2 col1\" >0.69</td>\n",
       "                        <td id=\"T_d72bac50_b0eb_11ea_8cba_80c5f274aaferow2_col2\" class=\"data row2 col2\" >1.00</td>\n",
       "                        <td id=\"T_d72bac50_b0eb_11ea_8cba_80c5f274aaferow2_col3\" class=\"data row2 col3\" >0.61</td>\n",
       "                        <td id=\"T_d72bac50_b0eb_11ea_8cba_80c5f274aaferow2_col4\" class=\"data row2 col4\" >0.42</td>\n",
       "                        <td id=\"T_d72bac50_b0eb_11ea_8cba_80c5f274aaferow2_col5\" class=\"data row2 col5\" >0.05</td>\n",
       "                        <td id=\"T_d72bac50_b0eb_11ea_8cba_80c5f274aaferow2_col6\" class=\"data row2 col6\" >0.23</td>\n",
       "                        <td id=\"T_d72bac50_b0eb_11ea_8cba_80c5f274aaferow2_col7\" class=\"data row2 col7\" >0.07</td>\n",
       "            </tr>\n",
       "            <tr>\n",
       "                        <th id=\"T_d72bac50_b0eb_11ea_8cba_80c5f274aafelevel0_row3\" class=\"row_heading level0 row3\" >Life_Expect</th>\n",
       "                        <td id=\"T_d72bac50_b0eb_11ea_8cba_80c5f274aaferow3_col0\" class=\"data row3 col0\" >0.78</td>\n",
       "                        <td id=\"T_d72bac50_b0eb_11ea_8cba_80c5f274aaferow3_col1\" class=\"data row3 col1\" >0.84</td>\n",
       "                        <td id=\"T_d72bac50_b0eb_11ea_8cba_80c5f274aaferow3_col2\" class=\"data row3 col2\" >0.61</td>\n",
       "                        <td id=\"T_d72bac50_b0eb_11ea_8cba_80c5f274aaferow3_col3\" class=\"data row3 col3\" >1.00</td>\n",
       "                        <td id=\"T_d72bac50_b0eb_11ea_8cba_80c5f274aaferow3_col4\" class=\"data row3 col4\" >0.35</td>\n",
       "                        <td id=\"T_d72bac50_b0eb_11ea_8cba_80c5f274aaferow3_col5\" class=\"data row3 col5\" >0.06</td>\n",
       "                        <td id=\"T_d72bac50_b0eb_11ea_8cba_80c5f274aaferow3_col6\" class=\"data row3 col6\" >0.28</td>\n",
       "                        <td id=\"T_d72bac50_b0eb_11ea_8cba_80c5f274aaferow3_col7\" class=\"data row3 col7\" >0.05</td>\n",
       "            </tr>\n",
       "            <tr>\n",
       "                        <th id=\"T_d72bac50_b0eb_11ea_8cba_80c5f274aafelevel0_row4\" class=\"row_heading level0 row4\" >Freedom</th>\n",
       "                        <td id=\"T_d72bac50_b0eb_11ea_8cba_80c5f274aaferow4_col0\" class=\"data row4 col0\" >0.57</td>\n",
       "                        <td id=\"T_d72bac50_b0eb_11ea_8cba_80c5f274aaferow4_col1\" class=\"data row4 col1\" >0.37</td>\n",
       "                        <td id=\"T_d72bac50_b0eb_11ea_8cba_80c5f274aaferow4_col2\" class=\"data row4 col2\" >0.42</td>\n",
       "                        <td id=\"T_d72bac50_b0eb_11ea_8cba_80c5f274aaferow4_col3\" class=\"data row4 col3\" >0.35</td>\n",
       "                        <td id=\"T_d72bac50_b0eb_11ea_8cba_80c5f274aaferow4_col4\" class=\"data row4 col4\" >1.00</td>\n",
       "                        <td id=\"T_d72bac50_b0eb_11ea_8cba_80c5f274aaferow4_col5\" class=\"data row4 col5\" >0.32</td>\n",
       "                        <td id=\"T_d72bac50_b0eb_11ea_8cba_80c5f274aaferow4_col6\" class=\"data row4 col6\" >0.50</td>\n",
       "                        <td id=\"T_d72bac50_b0eb_11ea_8cba_80c5f274aaferow4_col7\" class=\"data row4 col7\" >0.08</td>\n",
       "            </tr>\n",
       "            <tr>\n",
       "                        <th id=\"T_d72bac50_b0eb_11ea_8cba_80c5f274aafelevel0_row5\" class=\"row_heading level0 row5\" >Trust_Gov</th>\n",
       "                        <td id=\"T_d72bac50_b0eb_11ea_8cba_80c5f274aaferow5_col0\" class=\"data row5 col0\" >0.43</td>\n",
       "                        <td id=\"T_d72bac50_b0eb_11ea_8cba_80c5f274aaferow5_col1\" class=\"data row5 col1\" >0.35</td>\n",
       "                        <td id=\"T_d72bac50_b0eb_11ea_8cba_80c5f274aaferow5_col2\" class=\"data row5 col2\" >0.23</td>\n",
       "                        <td id=\"T_d72bac50_b0eb_11ea_8cba_80c5f274aaferow5_col3\" class=\"data row5 col3\" >0.28</td>\n",
       "                        <td id=\"T_d72bac50_b0eb_11ea_8cba_80c5f274aaferow5_col4\" class=\"data row5 col4\" >0.50</td>\n",
       "                        <td id=\"T_d72bac50_b0eb_11ea_8cba_80c5f274aaferow5_col5\" class=\"data row5 col5\" >0.29</td>\n",
       "                        <td id=\"T_d72bac50_b0eb_11ea_8cba_80c5f274aaferow5_col6\" class=\"data row5 col6\" >1.00</td>\n",
       "                        <td id=\"T_d72bac50_b0eb_11ea_8cba_80c5f274aaferow5_col7\" class=\"data row5 col7\" >-0.02</td>\n",
       "            </tr>\n",
       "            <tr>\n",
       "                        <th id=\"T_d72bac50_b0eb_11ea_8cba_80c5f274aafelevel0_row6\" class=\"row_heading level0 row6\" >Generosity</th>\n",
       "                        <td id=\"T_d72bac50_b0eb_11ea_8cba_80c5f274aaferow6_col0\" class=\"data row6 col0\" >0.16</td>\n",
       "                        <td id=\"T_d72bac50_b0eb_11ea_8cba_80c5f274aaferow6_col1\" class=\"data row6 col1\" >-0.02</td>\n",
       "                        <td id=\"T_d72bac50_b0eb_11ea_8cba_80c5f274aaferow6_col2\" class=\"data row6 col2\" >0.05</td>\n",
       "                        <td id=\"T_d72bac50_b0eb_11ea_8cba_80c5f274aaferow6_col3\" class=\"data row6 col3\" >0.06</td>\n",
       "                        <td id=\"T_d72bac50_b0eb_11ea_8cba_80c5f274aaferow6_col4\" class=\"data row6 col4\" >0.32</td>\n",
       "                        <td id=\"T_d72bac50_b0eb_11ea_8cba_80c5f274aaferow6_col5\" class=\"data row6 col5\" >1.00</td>\n",
       "                        <td id=\"T_d72bac50_b0eb_11ea_8cba_80c5f274aaferow6_col6\" class=\"data row6 col6\" >0.29</td>\n",
       "                        <td id=\"T_d72bac50_b0eb_11ea_8cba_80c5f274aaferow6_col7\" class=\"data row6 col7\" >-0.12</td>\n",
       "            </tr>\n",
       "            <tr>\n",
       "                        <th id=\"T_d72bac50_b0eb_11ea_8cba_80c5f274aafelevel0_row7\" class=\"row_heading level0 row7\" >Dystopia</th>\n",
       "                        <td id=\"T_d72bac50_b0eb_11ea_8cba_80c5f274aaferow7_col0\" class=\"data row7 col0\" >0.48</td>\n",
       "                        <td id=\"T_d72bac50_b0eb_11ea_8cba_80c5f274aaferow7_col1\" class=\"data row7 col1\" >0.02</td>\n",
       "                        <td id=\"T_d72bac50_b0eb_11ea_8cba_80c5f274aaferow7_col2\" class=\"data row7 col2\" >0.07</td>\n",
       "                        <td id=\"T_d72bac50_b0eb_11ea_8cba_80c5f274aaferow7_col3\" class=\"data row7 col3\" >0.05</td>\n",
       "                        <td id=\"T_d72bac50_b0eb_11ea_8cba_80c5f274aaferow7_col4\" class=\"data row7 col4\" >0.08</td>\n",
       "                        <td id=\"T_d72bac50_b0eb_11ea_8cba_80c5f274aaferow7_col5\" class=\"data row7 col5\" >-0.12</td>\n",
       "                        <td id=\"T_d72bac50_b0eb_11ea_8cba_80c5f274aaferow7_col6\" class=\"data row7 col6\" >-0.02</td>\n",
       "                        <td id=\"T_d72bac50_b0eb_11ea_8cba_80c5f274aaferow7_col7\" class=\"data row7 col7\" >1.00</td>\n",
       "            </tr>\n",
       "    </tbody></table>"
      ],
      "text/plain": [
       "<pandas.io.formats.style.Styler at 0x27e55a59548>"
      ]
     },
     "execution_count": 47,
     "metadata": {},
     "output_type": "execute_result"
    }
   ],
   "source": [
    "corrs_clustered.style.background_gradient().set_precision(2)"
   ]
  },
  {
   "cell_type": "markdown",
   "metadata": {},
   "source": [
    "The darker the color, the higher the correlation. The lightest colors are negative correlations. \n",
    "\n",
    "Notice that several variables exhibit correlations quite close to 0. It is a good idea to see if these correlations are even significant. \n",
    "\n",
    "We can also add a grid of p-values with p.mat= and tell the function to \"X\" out anything not < .05 by adding sig.level = .05:"
   ]
  },
  {
   "cell_type": "code",
   "execution_count": 49,
   "metadata": {},
   "outputs": [
    {
     "name": "stdout",
     "output_type": "stream",
     "text": [
      "\n",
      "\n",
      "Significance of correlations with Trust_Gov\n",
      "Correlation with Happiness = 0.429 with CI of 0.377 to 0.478 and p_value 2.538e-08\n",
      "Correlation with GDP = 0.351 with CI of 0.295 to 0.404 and p_value 7.567e-06\n",
      "Correlation with Family = 0.232 with CI of 0.172 to 0.290 and p_value 3.700e-03\n",
      "Correlation with Life_Expect = 0.280 with CI of 0.222 to 0.336 and p_value 4.229e-04\n",
      "Correlation with Freedom = 0.499 with CI of 0.451 to 0.544 and p_value 3.810e-11\n",
      "Correlation with Generosity = 0.294 with CI of 0.236 to 0.350 and p_value 2.031e-04\n",
      "Correlation with Dystopia = -0.023 with CI of -0.085 to 0.039 and p_value 7.787e-01\n",
      "Correlation with Life_Expect_reverse = 0.291 with CI of 0.233 to 0.347 and p_value 2.364e-04\n",
      "Correlation with Life_Expect_reverse_sqrt = -0.291 with CI of -0.347 to -0.233 and p_value 2.364e-04\n",
      "\n",
      "\n",
      "Significance of correlations with Generosity\n",
      "Correlation with Happiness = 0.155 with CI of 0.094 to 0.215 and p_value 5.373e-02\n",
      "Correlation with GDP = -0.019 with CI of -0.081 to 0.043 and p_value 8.144e-01\n",
      "Correlation with Family = 0.052 with CI of -0.010 to 0.113 and p_value 5.230e-01\n",
      "Correlation with Life_Expect = 0.063 with CI of 0.001 to 0.125 and p_value 4.347e-01\n",
      "Correlation with Freedom = 0.316 with CI of 0.259 to 0.371 and p_value 6.161e-05\n",
      "Correlation with Trust_Gov = 0.294 with CI of 0.236 to 0.350 and p_value 2.031e-04\n",
      "Correlation with Dystopia = -0.117 with CI of -0.177 to -0.055 and p_value 1.484e-01\n",
      "Correlation with Life_Expect_reverse = 0.068 with CI of 0.006 to 0.129 and p_value 4.020e-01\n",
      "Correlation with Life_Expect_reverse_sqrt = -0.068 with CI of -0.129 to -0.006 and p_value 4.020e-01\n",
      "\n",
      "\n",
      "Significance of correlations with Dystopia\n",
      "Correlation with Happiness = 0.475 with CI of 0.426 to 0.522 and p_value 4.102e-10\n",
      "Correlation with GDP = 0.024 with CI of -0.038 to 0.086 and p_value 7.648e-01\n",
      "Correlation with Family = 0.071 with CI of 0.009 to 0.132 and p_value 3.833e-01\n",
      "Correlation with Life_Expect = 0.055 with CI of -0.007 to 0.117 and p_value 4.970e-01\n",
      "Correlation with Freedom = 0.082 with CI of 0.020 to 0.143 and p_value 3.109e-01\n",
      "Correlation with Generosity = -0.117 with CI of -0.177 to -0.055 and p_value 1.484e-01\n",
      "Correlation with Trust_Gov = -0.023 with CI of -0.085 to 0.039 and p_value 7.787e-01\n",
      "Correlation with Life_Expect_reverse = 0.058 with CI of -0.004 to 0.120 and p_value 4.724e-01\n",
      "Correlation with Life_Expect_reverse_sqrt = -0.058 with CI of -0.120 to 0.004 and p_value 4.724e-01\n"
     ]
    }
   ],
   "source": [
    "def correlation_sig2(df, col1, col2):\n",
    "    pearson_cor = ss.pearsonr(x = df[col1], y = df[col2]) \n",
    "    conf_ints = r_conf_int(pearson_cor[0], 0.05, 1000)\n",
    "    print('Correlation with ' + col2 + ' = %4.3f with CI of %4.3f to %4.3f and p_value %4.3e' \n",
    "        % (pearson_cor[0], conf_ints[0], conf_ints[1], pearson_cor[1]))\n",
    "\n",
    "def test_significance(df, col_list):\n",
    "    cols = df.columns\n",
    "    for col1 in col_list: \n",
    "        print('\\n')\n",
    "        print('Significance of correlations with ' + col1)\n",
    "        for col2 in cols: \n",
    "            if(col1 != col2):\n",
    "                correlation_sig2(df, col1, col2)  \n",
    "\n",
    "test_cols = ['Trust_Gov', 'Generosity', 'Dystopia']\n",
    "test_significance(data, test_cols)"
   ]
  },
  {
   "cell_type": "markdown",
   "metadata": {},
   "source": [
    "Most the the correlations with Trust_Gov are significant. However, most correlations with Generosity and Dystopia are not. The lack of significance can been seen by confidence intervals that straddle 0.0 and have large p-values. \n",
    "\n",
    "\n",
    "Conclusion\n",
    "==========\n",
    "\n",
    "Using the correlation analysis, we have both learned to **find clusters of\n",
    "relationships** among data and to **estimate individual correlations and\n",
    "test them for significance**. If we had a specific variable we wanted to\n",
    "study in greater detail, we could use **regression**."
   ]
  },
  {
   "cell_type": "code",
   "execution_count": null,
   "metadata": {},
   "outputs": [],
   "source": []
  }
 ],
 "metadata": {
  "kernelspec": {
   "display_name": "Python 3",
   "language": "python",
   "name": "python3"
  },
  "language_info": {
   "codemirror_mode": {
    "name": "ipython",
    "version": 3
   },
   "file_extension": ".py",
   "mimetype": "text/x-python",
   "name": "python",
   "nbconvert_exporter": "python",
   "pygments_lexer": "ipython3",
   "version": "3.7.6"
  }
 },
 "nbformat": 4,
 "nbformat_minor": 4
}
