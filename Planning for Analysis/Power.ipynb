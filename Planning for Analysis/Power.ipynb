{
 "cells": [
  {
   "cell_type": "markdown",
   "metadata": {},
   "source": [
    "## Power\n",
    "\n",
    "In this lab, we explore the concept of statistical power. Recall that\n",
    "power is the ability to reject the null hypothesis. Greater power means\n",
    "greater ability to reject the null hypothesis. Of course, if you cannot\n",
    "reject the null hypothesis, you cannot rule out random chance as an\n",
    "explanation for your findings. Good power is a bare minimum\n",
    "requirement.\n",
    "\n",
    "Technically defined, power is the proportion of the time in which you\n",
    "would achieve *p* &lt; .05 for a given population effect size. Power is\n",
    "relevant *only* when the null hypothesis is false. You want good\n",
    "power...usually the recommendation is .80 or higher.\n",
    "\n",
    "Power is **highly dependnet on sample size**.\n",
    "\n",
    "The standard guidelines for Cohen's *d* are:\n",
    "<pre>\n",
    "| #  |    d Value    |  Meaning   |\n",
    "|:--:|:-------------:|:----------:|\n",
    "| 1. |    0 - 0.2    | Negligible |\n",
    "| 2. |   0.2 - 0.5   |   Small    |\n",
    "| 3. |   0.5 - 0.8   |   Medium   |\n",
    "| 4. |     0.80 +    |   Large    |\n",
    "</pre>\n",
    "\n",
    "To reiterate, in power calculations, there are always three things that\n",
    "interrelate:\n",
    "\n",
    "1.  Power\n",
    "2.  Sample size (*n* per group in group-comparison studies)\n",
    "3.  Effect size"
   ]
  },
  {
   "cell_type": "code",
   "execution_count": null,
   "metadata": {},
   "outputs": [],
   "source": [
    "from scipy import stats\n",
    "from statsmodels.stats.power import tt_ind_solve_power\n",
    "import pandas as pd\n",
    "import matplotlib.pyplot as plt\n",
    "%matplotlib inline"
   ]
  },
  {
   "cell_type": "markdown",
   "metadata": {},
   "source": [
    "## Planning Sample Size\n",
    "\n",
    "Sometimes it can be handy to generate a number of power estimates for\n",
    "different effect sizes and sample sizes. \n",
    "\n",
    "Procedures for creating power table:\n",
    "1. A list of d values is created with a list comprehension.\n",
    "2. A data frame is created with a single column for sample sizes.\n",
    "3. Loop over the d values. Within the loop a list comprehension is used to compute the power of the test for each sample size. \n",
    "\n",
    "Also, plot power vs. the sample size for each of the d values:"
   ]
  },
  {
   "cell_type": "code",
   "execution_count": null,
   "metadata": {},
   "outputs": [],
   "source": [
    "# create a list of d values\n",
    "d_vals = [d/10.0 for d in range(2, 16)]\n",
    "# create a list of sample size\n",
    "sample_size = range(20,210,10)\n",
    "\n",
    "powers = pd.DataFrame({'Sample Size':sample_size})\n",
    "\n",
    "# loop over d values for getting the power with the corresponding sample size\n",
    "for d in d_vals:\n",
    "    powers['d = ' + str(d)] = [tt_ind_solve_power(effect_size=d, nobs1=x, alpha=0.05, \n",
    "                                                  power=None, ratio=1, alternative='two-sided')\n",
    "                              for x in sample_size]\n",
    "\n",
    "powers"
   ]
  },
  {
   "cell_type": "code",
   "execution_count": null,
   "metadata": {},
   "outputs": [],
   "source": [
    "fig = plt.figure(figsize=(12,10))\n",
    "ax = fig.gca()\n",
    "# use Pandas plotting function to generate the figure\n",
    "powers.plot(x='Sample Size', ax=ax, linestyle = '-.')\n",
    "plt.hlines(y = 0.8, xmin = 20, xmax = 200, color = 'red', linestyle = '--')\n",
    "plt.title('Power vs. sample size for values of d')\n",
    "plt.ylabel('Power')\n",
    "plt.xlabel('Sample Size')"
   ]
  },
  {
   "cell_type": "markdown",
   "metadata": {},
   "source": [
    "You can easily see with the graph that 80%\n",
    "power (red dashed line) would take 180 participants per group for a *d*\n",
    "= .03 but would only take 45 people per group at *d* = .06."
   ]
  },
  {
   "cell_type": "code",
   "execution_count": null,
   "metadata": {},
   "outputs": [],
   "source": []
  }
 ],
 "metadata": {
  "kernelspec": {
   "display_name": "Python 3",
   "language": "python",
   "name": "python3"
  },
  "language_info": {
   "codemirror_mode": {
    "name": "ipython",
    "version": 3
   },
   "file_extension": ".py",
   "mimetype": "text/x-python",
   "name": "python",
   "nbconvert_exporter": "python",
   "pygments_lexer": "ipython3",
   "version": "3.7.6"
  }
 },
 "nbformat": 4,
 "nbformat_minor": 4
}
