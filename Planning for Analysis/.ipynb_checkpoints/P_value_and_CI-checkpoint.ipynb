{
 "cells": [
  {
   "cell_type": "markdown",
   "metadata": {},
   "source": [
    "##  *p*-values\n",
    "\n",
    "Review the concepts of *p*-values and tests of\n",
    "statistical significance with an emphasis on their application in\n",
    "research.\n",
    "\n",
    "Imagine we want to compare males\n",
    "and females in terms of their interest in a given product. Imagine, for\n",
    "a moment, that *the two groups have identical interest* (in the\n",
    "population)...that is, there is no difference between the groups.\n",
    "Nevertheless, if we take a sample of males and a sample of females, the\n",
    "error in our estimations will cause a difference to appear.\n",
    "\n",
    "Imagine that *both* males and females had an interest level averaging at\n",
    "5, with a standard deviation of 3."
   ]
  },
  {
   "cell_type": "code",
   "execution_count": 2,
   "metadata": {},
   "outputs": [
    {
     "name": "stdout",
     "output_type": "stream",
     "text": [
      "5.171234200421537 5.898998940622083\n"
     ]
    }
   ],
   "source": [
    "# set seed to make random number generation reproducible\n",
    "import numpy as np\n",
    "import numpy.random as nr\n",
    "nr.seed(51120122)\n",
    "\n",
    "#collect a sample of 100 males\n",
    "males = nr.normal(5, 3, 100)\n",
    "\n",
    "#collect a sample of 100 females\n",
    "females = nr.normal(5, 3, 100)\n",
    "\n",
    "print(np.mean(males), np.mean(females))"
   ]
  },
  {
   "cell_type": "code",
   "execution_count": 3,
   "metadata": {},
   "outputs": [
    {
     "data": {
      "text/plain": [
       "-0.7277647402005458"
      ]
     },
     "execution_count": 3,
     "metadata": {},
     "output_type": "execute_result"
    }
   ],
   "source": [
    "# two groups have different sample results\n",
    "np.mean(males)-np.mean(females)"
   ]
  },
  {
   "cell_type": "markdown",
   "metadata": {},
   "source": [
    "We see here that the females are almost 3/4 of a point higher than the\n",
    "males. If you saw this data in an organization where you were working,\n",
    "you might be tempted to think you'd discovered a female preference for\n",
    "your product. However, in fact, we *know* in this case that this is\n",
    "nonsense as we *know* (because we wrote the Python code simulating this data)\n",
    "that *both* groups were random samples from a population with a mean of\n",
    "5 and a standard deviation of 3. If their means are both 5.0 (exactly)\n",
    "in the population, why did the females score higher in the samples? It's\n",
    "simple: sampling error. That is, the difference is **entirely** due to\n",
    "random error in the samples, not any real difference in the population.\n",
    "We have discovered a fluke in some sample data, nothing more.\n",
    "\n",
    "This is a case of the \"null hypothesis.\" In this case, the means are\n",
    "*equal* in the population. We write the null hypothesis as\n",
    "*H*<sub>0</sub> and it is always a statement that the size of the effect\n",
    "in the population is zero. In this case, we are testing the difference\n",
    "between the averages ($\\mu ' s$), stating that the *difference between\n",
    "them is zero*:\n",
    "\n",
    "$$H_0 :\\ \\mu_{male} - \\mu_{female} = 0$$\n",
    "\n",
    "So, in conclusion, the null hypothesis says that whatever effect you are\n",
    "studying is *zero* in the population and *your sample results are due to\n",
    "random chance.*"
   ]
  },
  {
   "cell_type": "markdown",
   "metadata": {},
   "source": [
    "## Null Hypothesis Significance Test: The *p*-Value\n",
    "\n",
    "the *p-value states the probability of getting **your\n",
    "result** if the null is true*. It is essentially a statement of\n",
    "incompatibility between your data and the null. A small *p*-value\n",
    "(typically, less than 5% or \"&lt; . 05\") tells you that the data and\n",
    "null are highly incompatible. Since you did in fact observe the data,\n",
    "you conclude the null hypothesis is false. This is the only use for the\n",
    "*p*-value.\n",
    "\n",
    "Every data situation is different, but\n",
    "the process in so-called \"frequentist\" statistics is always the same.\n",
    "\n",
    "Let's see this in action. For this example, I will use a \"one-sample\n",
    "*t*-test\", as the math is easier.\n",
    "\n",
    "Imagine we assess people's impressions of a training given in an\n",
    "organization. We assess attitudes toward the training on a -5 (very\n",
    "negative) to +5 (very positive) scale (zero = neutral opinion).\n",
    "\n",
    "The question is whether people have a positive or negative attitude\n",
    "toward the training, on average. Let's imagine that they actually have a\n",
    "positive attitude, that in the population the mean is really 2.4 (i.e.,\n",
    "*μ* = 2.4) with a standard deviation of 2.0. This is a simulated example.\n",
    "\n",
    "What would the null hypothesis be, here? Well, the null hypothesis\n",
    "always states that the effect is absent. In this case, an \"effect\" would\n",
    "be a non-zero attitude. Thus, in this case, *H*<sub>0</sub> : *μ* = 0.\n",
    "\n",
    "Let's pull a random sample of 100 scores from that population."
   ]
  },
  {
   "cell_type": "code",
   "execution_count": 6,
   "metadata": {},
   "outputs": [
    {
     "name": "stdout",
     "output_type": "stream",
     "text": [
      "2.234095719379859 2.0725742818363613\n"
     ]
    }
   ],
   "source": [
    "nr.seed(4455)\n",
    "attitude = nr.normal(2.4, 2.0, 100)\n",
    "print(np.mean(attitude), np.std(attitude))"
   ]
  },
  {
   "cell_type": "markdown",
   "metadata": {},
   "source": [
    "#### So, our null hypothesis is that the mean is zero\n",
    "(*H*<sub>0</sub> : *μ* = 0) but our sample result disagrees with that\n",
    "(sample mean = 2.23).\n",
    "\n",
    "Does this *sample* gives us enough evidence to reject the null?\n",
    "\n",
    "To answer that question, we calculate a test statistic. In this case\n",
    "(one group, sample mean), we conduct a one-group *t*-test for means.\n",
    "\n",
    "In the *t*-test, we compare the size of the difference between our\n",
    "observed result and the null hypothesis, divided by what you would\n",
    "typically expect by chance (i.e., standard error):\n",
    "\n",
    "$$t=\\frac{result - null }{chance}$$\n",
    "\n",
    "Since our sample result is a sample mean ($\\\\bar{x}$), and we know the\n",
    "$$t = \\frac{\\bar{x}-H_0}{\\frac{SD}{\\sqrt{n}}}$$\n",
    "\n",
    "We can plug in our numbers easily:\n",
    "\n",
    "$$t = \\frac{\\bar{x}-H_0}{\\frac{SD}{\\sqrt{n}}} =  \\frac{2.234-0}{\\frac{2.073}{\\sqrt{100}}} = 10.8$$\n",
    "\n",
    "It doesn't really\n",
    "matter if we can interpret the *p*-value directly. We simply need to\n",
    "know where *t*-test results tend to be when the null is true, and then\n",
    "we can see how rare a score of 10.8 would be in that situation, giving\n",
    "us our *p*-value.\n",
    "This is an easy question to answer. Statisticians have mapped out the\n",
    "exact behavior of each test statistic when the null hypothesis is true\n",
    "(or as we often say, \"under the null\"). We know, for example, that if\n",
    "the null hypothesis is true, that the *t*-test will be close to zero\n",
    "(almost always within +/- 3 points of zero)."
   ]
  },
  {
   "cell_type": "code",
   "execution_count": 8,
   "metadata": {},
   "outputs": [
    {
     "name": "stdout",
     "output_type": "stream",
     "text": [
      "Results of one-sample two-sided t test\n",
      "Mean         = 2.234\n",
      "t-Statistic  = 10.725\n",
      "p-value      < 2.881e-18\n",
      "On degrees of freedom =   99\n",
      "Confidence Intervals for alpha =0.05\n",
      "Lower =  1.729 Upper = 2.739\n"
     ]
    }
   ],
   "source": [
    "from scipy import stats\n",
    "def two_sided_one_sample_t_test(sample, avg = 0.0, p_val = 0.05):\n",
    "    t_stat = stats.ttest_1samp(sample, avg)\n",
    "    scale = np.std(sample)\n",
    "    loc = np.mean(sample)\n",
    "    ci = stats.t.cdf(p_val/2, len(sample), loc=avg, scale=scale)\n",
    "    print('Results of one-sample two-sided t test')\n",
    "    print('Mean         = %4.3f' % loc)\n",
    "    print('t-Statistic  = %4.3f' % t_stat[0])\n",
    "    print('p-value      < %4.3e' % t_stat[1])\n",
    "    print('On degrees of freedom = %4d' % (len(sample) - 1))\n",
    "    print('Confidence Intervals for alpha =' + str(p_val))\n",
    "    print('Lower =  %4.3f Upper = %4.3f' % (loc - ci, loc + ci))\n",
    "    \n",
    "two_sided_one_sample_t_test(attitude)"
   ]
  },
  {
   "cell_type": "markdown",
   "metadata": {},
   "source": [
    "The key information is from this function is:\n",
    "`t statistic = 10.7, df = 99, p-value < 2.9e-18`. Notice that the *p*-value is displayed in scientific notation. `2.9e-18` is scientific notation:\n",
    "2.9 x 10<sup>-18</sup> and means the same as 0.0000000000000000029. This\n",
    "is clearly less than .05 so we can reject the null hypothesis and\n",
    "conclude that the positive attitude observed among our participants was\n",
    "not a statistical fluke but likely a real trend in the population."
   ]
  },
  {
   "cell_type": "markdown",
   "metadata": {},
   "source": [
    "### For Illustration Purposes\n",
    "\n",
    "How did Statsmodels compute that *p*-value? I will illustrate.\n",
    "\n",
    "I start with a plot of all the *t*-test results (for sample size of 100)\n",
    "you would expect **if the null hypothesis was true.** We know this,\n",
    "thanks to mathematicians.\n",
    "![](img/unnamed-chunk-8-1.png)\n",
    "\n",
    "**The bell curve above illustrates all the possible *t*-test results one\n",
    "would expect when the null is true and their respective probabilities.**\n",
    "We see here that most results are within about +/- 3 points from zero.\n",
    "Where is our result? Let's add it to the plot.\n",
    "\n",
    "![](img/unnamed-chunk-9-1.png)\n",
    "\n",
    "As we see, our result is out among values that are very, very rare under\n",
    "the null hypothesis. It appears that our data disagree the null\n",
    "hypothesis. When the null is true, we should be getting *t*-test results\n",
    "down in the center of the bell curve (approximately ± 3), but we didn't.\n",
    "We were up at 12.8.\n",
    "\n",
    "**To find the *p*-value,** we simply ask what percentage of our *t*-curve is\n",
    "out that far. In other words, **what proportion of the bell curve extends\n",
    "out beyond the red line?** What is the area \"in the upper tail\"?\n",
    "\n",
    "**We can compute the p-value as $1 - cdf$**, for the t-statistic, where $cdf$ is the cumulative density function. The statsmodels `t.cdf()` function computes the cdf given the t-statistic and the degrees of freedom; $n − 1 = 100 − 1 = 99$:"
   ]
  },
  {
   "cell_type": "code",
   "execution_count": 11,
   "metadata": {},
   "outputs": [
    {
     "data": {
      "text/plain": [
       "0.0"
      ]
     },
     "execution_count": 11,
     "metadata": {},
     "output_type": "execute_result"
    }
   ],
   "source": [
    "from scipy.stats import t\n",
    "# One-tailed p-value\n",
    "1 - t.cdf(10.8, df=99, loc=0, scale=1)"
   ]
  },
  {
   "cell_type": "markdown",
   "metadata": {},
   "source": [
    "This result is saying there is \"zero\" probability of getting a result this big if\n",
    "the null were true; i.e., *p* = 0. In reality, *p* values are never zero\n",
    "but can get infinitely small. In this case the a tiny number is rounded to 0.\n",
    "\n",
    "This is called a one-tailed *p*-value. We actually, however, need to\n",
    "double it. The reason we need to double it is that our null hypothesis\n",
    "was that *μ* = 0. That is, the null is false if our result is\n",
    "significantly *larger* than zero (a positive attitude) or significantly\n",
    "*smaller* than zero (a negative attitude). This is consistent with how\n",
    "we asked our question: \"do people have positive or negative attitudes?\"\n",
    "In other words, we did not test a directional prediction; we would be\n",
    "interested in \"finding\" something regardless of the direction of the\n",
    "effect. Since the *p*-value is the probability of getting an effect\n",
    "\"this large\" and we do not care about the direction, it actually exists\n",
    "on both sides of the distribution (a negative attitude would have given\n",
    "us a negative *t*-score):\n",
    "\n",
    "![](img/unnamed-chunk-11-1.png)\n",
    "\n",
    "Thus, we have to double our *p*-value. This is standard practice any\n",
    "time you would be willing to declare the result significant **regardless\n",
    "of the direction**. We call this a *two-tailed p-value*.\n",
    "\n",
    "We almost always double the *p*-value for this reason. It is true\n",
    "that it makes it a little harder to get a significant result (less than\n",
    ".05), but we can extract more meaning from the result. It's worth it.\n",
    "\n",
    "Note: our doubled *p*-value here is still essentially zero:"
   ]
  },
  {
   "cell_type": "code",
   "execution_count": 12,
   "metadata": {},
   "outputs": [
    {
     "data": {
      "text/plain": [
       "0.0"
      ]
     },
     "execution_count": 12,
     "metadata": {},
     "output_type": "execute_result"
    }
   ],
   "source": [
    "# two-tailed p-value\n",
    "2.0 * (1 - t.cdf(10.8, df = 99, loc=0, scale=1))"
   ]
  },
  {
   "cell_type": "markdown",
   "metadata": {},
   "source": [
    "## Confidence Intervals\n",
    "\n",
    "Rejecting the null hypothesis tells you what the effect\n",
    "is *not* (i.e., not zero, not due to chance). You aren't saying what the\n",
    "effect *is.* If you want to estimate what is going on in the population,\n",
    "we need to do more, to use our sample estimate as a starting point and\n",
    "add some measure of uncertainty.This is the goal of confidence intervals. A confidence interval simply\n",
    "takes your sample result and puts it at the center of a ranged estimate.\n",
    "We know that the sample result has error in it; it's an imperfect\n",
    "estimate of the population. However, we can estimate *how much error*\n",
    "and can use that to create a range around our sample estimate."
   ]
  },
  {
   "cell_type": "code",
   "execution_count": 14,
   "metadata": {},
   "outputs": [
    {
     "name": "stdout",
     "output_type": "stream",
     "text": [
      "Results of one-sample two-sided t test\n",
      "Mean         = 2.234\n",
      "t-Statistic  = 10.725\n",
      "p-value      < 2.881e-18\n",
      "On degrees of freedom =   99\n",
      "Confidence Intervals for alpha =0.05\n",
      "Lower =  1.729 Upper = 2.739\n"
     ]
    }
   ],
   "source": [
    "import pandas as pd\n",
    "import numpy as np\n",
    "attitude = np.array(pd.read_csv('datasets/attitude.csv'))[:,1]\n",
    "\n",
    "two_sided_one_sample_t_test(attitude)"
   ]
  },
  {
   "cell_type": "markdown",
   "metadata": {},
   "source": [
    "Notice the confidence interval:\n",
    "\n",
    "`Lower       1.729`  \n",
    "`Upper       2.739`\n",
    "\n",
    "This is **much** more useful than our *p* &lt; .05 finding. Think about\n",
    "it. *p* &lt; .05 tells us that we can reject the null hypothesis (which\n",
    "stated *μ* = 0). The 95% confidence interval tells you that it's\n",
    "*probably not zero* **and** that it's probably between 1.73 and 2.74. It\n",
    "both rejects the null and tells you where the population value likely\n",
    "is. It's rejecting the null and giving you additional information.\n",
    "\n",
    "The CI also tells you how precise our result is. The two bounds on the\n",
    "CI are close together, indicating I have a very good read on where the\n",
    "population mean is. On a -5 to +5 scale, the CI tells me we are very\n",
    "likely in the \"mid-range positive\" territory on our attitude scale."
   ]
  },
  {
   "cell_type": "code",
   "execution_count": null,
   "metadata": {},
   "outputs": [],
   "source": []
  }
 ],
 "metadata": {
  "kernelspec": {
   "display_name": "Python 3",
   "language": "python",
   "name": "python3"
  },
  "language_info": {
   "codemirror_mode": {
    "name": "ipython",
    "version": 3
   },
   "file_extension": ".py",
   "mimetype": "text/x-python",
   "name": "python",
   "nbconvert_exporter": "python",
   "pygments_lexer": "ipython3",
   "version": "3.7.6"
  }
 },
 "nbformat": 4,
 "nbformat_minor": 4
}
