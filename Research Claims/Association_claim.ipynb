{
 "cells": [
  {
   "cell_type": "markdown",
   "metadata": {},
   "source": [
    "## Association Claim\n",
    "\n",
    "Examine how to analyze data for a correlation. Here, I focus on correlation.\n",
    "\n",
    "In the example, analyzing customer loyalty data. Your organization uses three measures of loyalty, and you wish to test them out. (To avoid discussions of popular real measures, we will name these loytalty1, loyalty2, and loyalty3)."
   ]
  },
  {
   "cell_type": "code",
   "execution_count": 1,
   "metadata": {},
   "outputs": [],
   "source": [
    "import matplotlib.pyplot as plt\n",
    "import pandas as pd\n",
    "import numpy as np\n",
    "import seaborn as sns\n",
    "import scipy.stats as ss\n",
    "import math\n",
    "\n",
    "%matplotlib inline"
   ]
  },
  {
   "cell_type": "code",
   "execution_count": 3,
   "metadata": {},
   "outputs": [
    {
     "data": {
      "text/html": [
       "<div>\n",
       "<style scoped>\n",
       "    .dataframe tbody tr th:only-of-type {\n",
       "        vertical-align: middle;\n",
       "    }\n",
       "\n",
       "    .dataframe tbody tr th {\n",
       "        vertical-align: top;\n",
       "    }\n",
       "\n",
       "    .dataframe thead th {\n",
       "        text-align: right;\n",
       "    }\n",
       "</style>\n",
       "<table border=\"1\" class=\"dataframe\">\n",
       "  <thead>\n",
       "    <tr style=\"text-align: right;\">\n",
       "      <th></th>\n",
       "      <th>Unnamed: 0</th>\n",
       "      <th>loyalty1</th>\n",
       "      <th>loyalty2</th>\n",
       "      <th>loyalty3</th>\n",
       "    </tr>\n",
       "  </thead>\n",
       "  <tbody>\n",
       "    <tr>\n",
       "      <th>0</th>\n",
       "      <td>1</td>\n",
       "      <td>9</td>\n",
       "      <td>10</td>\n",
       "      <td>4</td>\n",
       "    </tr>\n",
       "    <tr>\n",
       "      <th>1</th>\n",
       "      <td>2</td>\n",
       "      <td>10</td>\n",
       "      <td>11</td>\n",
       "      <td>5</td>\n",
       "    </tr>\n",
       "    <tr>\n",
       "      <th>2</th>\n",
       "      <td>3</td>\n",
       "      <td>10</td>\n",
       "      <td>10</td>\n",
       "      <td>5</td>\n",
       "    </tr>\n",
       "    <tr>\n",
       "      <th>3</th>\n",
       "      <td>4</td>\n",
       "      <td>9</td>\n",
       "      <td>10</td>\n",
       "      <td>5</td>\n",
       "    </tr>\n",
       "    <tr>\n",
       "      <th>4</th>\n",
       "      <td>5</td>\n",
       "      <td>8</td>\n",
       "      <td>11</td>\n",
       "      <td>4</td>\n",
       "    </tr>\n",
       "    <tr>\n",
       "      <th>...</th>\n",
       "      <td>...</td>\n",
       "      <td>...</td>\n",
       "      <td>...</td>\n",
       "      <td>...</td>\n",
       "    </tr>\n",
       "    <tr>\n",
       "      <th>995</th>\n",
       "      <td>996</td>\n",
       "      <td>9</td>\n",
       "      <td>12</td>\n",
       "      <td>5</td>\n",
       "    </tr>\n",
       "    <tr>\n",
       "      <th>996</th>\n",
       "      <td>997</td>\n",
       "      <td>11</td>\n",
       "      <td>12</td>\n",
       "      <td>5</td>\n",
       "    </tr>\n",
       "    <tr>\n",
       "      <th>997</th>\n",
       "      <td>998</td>\n",
       "      <td>10</td>\n",
       "      <td>13</td>\n",
       "      <td>5</td>\n",
       "    </tr>\n",
       "    <tr>\n",
       "      <th>998</th>\n",
       "      <td>999</td>\n",
       "      <td>9</td>\n",
       "      <td>11</td>\n",
       "      <td>5</td>\n",
       "    </tr>\n",
       "    <tr>\n",
       "      <th>999</th>\n",
       "      <td>1000</td>\n",
       "      <td>9</td>\n",
       "      <td>13</td>\n",
       "      <td>5</td>\n",
       "    </tr>\n",
       "  </tbody>\n",
       "</table>\n",
       "<p>1000 rows × 4 columns</p>\n",
       "</div>"
      ],
      "text/plain": [
       "     Unnamed: 0  loyalty1  loyalty2  loyalty3\n",
       "0             1         9        10         4\n",
       "1             2        10        11         5\n",
       "2             3        10        10         5\n",
       "3             4         9        10         5\n",
       "4             5         8        11         4\n",
       "..          ...       ...       ...       ...\n",
       "995         996         9        12         5\n",
       "996         997        11        12         5\n",
       "997         998        10        13         5\n",
       "998         999         9        11         5\n",
       "999        1000         9        13         5\n",
       "\n",
       "[1000 rows x 4 columns]"
      ]
     },
     "execution_count": 3,
     "metadata": {},
     "output_type": "execute_result"
    }
   ],
   "source": [
    "data = pd.read_csv('datasets/loyaltydata.csv')\n",
    "data"
   ]
  },
  {
   "cell_type": "code",
   "execution_count": 12,
   "metadata": {},
   "outputs": [
    {
     "data": {
      "text/html": [
       "<div>\n",
       "<style scoped>\n",
       "    .dataframe tbody tr th:only-of-type {\n",
       "        vertical-align: middle;\n",
       "    }\n",
       "\n",
       "    .dataframe tbody tr th {\n",
       "        vertical-align: top;\n",
       "    }\n",
       "\n",
       "    .dataframe thead th {\n",
       "        text-align: right;\n",
       "    }\n",
       "</style>\n",
       "<table border=\"1\" class=\"dataframe\">\n",
       "  <thead>\n",
       "    <tr style=\"text-align: right;\">\n",
       "      <th></th>\n",
       "      <th>Unnamed: 0</th>\n",
       "      <th>loyalty1</th>\n",
       "      <th>loyalty2</th>\n",
       "      <th>loyalty3</th>\n",
       "    </tr>\n",
       "  </thead>\n",
       "  <tbody>\n",
       "    <tr>\n",
       "      <th>count</th>\n",
       "      <td>1000.000000</td>\n",
       "      <td>1000.000000</td>\n",
       "      <td>1000.000000</td>\n",
       "      <td>1000.000000</td>\n",
       "    </tr>\n",
       "    <tr>\n",
       "      <th>mean</th>\n",
       "      <td>500.500000</td>\n",
       "      <td>9.960000</td>\n",
       "      <td>10.449000</td>\n",
       "      <td>5.072000</td>\n",
       "    </tr>\n",
       "    <tr>\n",
       "      <th>std</th>\n",
       "      <td>288.819436</td>\n",
       "      <td>1.043786</td>\n",
       "      <td>1.332357</td>\n",
       "      <td>1.045901</td>\n",
       "    </tr>\n",
       "    <tr>\n",
       "      <th>min</th>\n",
       "      <td>1.000000</td>\n",
       "      <td>7.000000</td>\n",
       "      <td>7.000000</td>\n",
       "      <td>2.000000</td>\n",
       "    </tr>\n",
       "    <tr>\n",
       "      <th>25%</th>\n",
       "      <td>250.750000</td>\n",
       "      <td>9.000000</td>\n",
       "      <td>10.000000</td>\n",
       "      <td>4.000000</td>\n",
       "    </tr>\n",
       "    <tr>\n",
       "      <th>50%</th>\n",
       "      <td>500.500000</td>\n",
       "      <td>10.000000</td>\n",
       "      <td>10.000000</td>\n",
       "      <td>5.000000</td>\n",
       "    </tr>\n",
       "    <tr>\n",
       "      <th>75%</th>\n",
       "      <td>750.250000</td>\n",
       "      <td>11.000000</td>\n",
       "      <td>11.000000</td>\n",
       "      <td>6.000000</td>\n",
       "    </tr>\n",
       "    <tr>\n",
       "      <th>max</th>\n",
       "      <td>1000.000000</td>\n",
       "      <td>13.000000</td>\n",
       "      <td>16.000000</td>\n",
       "      <td>8.000000</td>\n",
       "    </tr>\n",
       "  </tbody>\n",
       "</table>\n",
       "</div>"
      ],
      "text/plain": [
       "        Unnamed: 0     loyalty1     loyalty2     loyalty3\n",
       "count  1000.000000  1000.000000  1000.000000  1000.000000\n",
       "mean    500.500000     9.960000    10.449000     5.072000\n",
       "std     288.819436     1.043786     1.332357     1.045901\n",
       "min       1.000000     7.000000     7.000000     2.000000\n",
       "25%     250.750000     9.000000    10.000000     4.000000\n",
       "50%     500.500000    10.000000    10.000000     5.000000\n",
       "75%     750.250000    11.000000    11.000000     6.000000\n",
       "max    1000.000000    13.000000    16.000000     8.000000"
      ]
     },
     "execution_count": 12,
     "metadata": {},
     "output_type": "execute_result"
    }
   ],
   "source": [
    "data.describe(include='all')"
   ]
  },
  {
   "cell_type": "code",
   "execution_count": 8,
   "metadata": {},
   "outputs": [
    {
     "name": "stdout",
     "output_type": "stream",
     "text": [
      "loyalty1\n",
      "10    380\n",
      "9     250\n",
      "11    235\n",
      "8      68\n",
      "12     54\n",
      "13      7\n",
      "7       6\n",
      "Name: loyalty1, dtype: int64\n",
      "loyalty2\n",
      "10    293\n",
      "11    264\n",
      "9     174\n",
      "12    150\n",
      "13     48\n",
      "8      48\n",
      "7      12\n",
      "14      9\n",
      "16      1\n",
      "15      1\n",
      "Name: loyalty2, dtype: int64\n",
      "loyalty3\n",
      "5    384\n",
      "4    245\n",
      "6    237\n",
      "7     76\n",
      "3     42\n",
      "8     10\n",
      "2      6\n",
      "Name: loyalty3, dtype: int64\n"
     ]
    }
   ],
   "source": [
    "print('loyalty1\\n' + str(data['loyalty1'].value_counts()))\n",
    "print('loyalty2\\n' + str(data['loyalty2'].value_counts()))\n",
    "print('loyalty3\\n' + str(data['loyalty3'].value_counts()))"
   ]
  },
  {
   "cell_type": "code",
   "execution_count": 13,
   "metadata": {},
   "outputs": [
    {
     "data": {
      "text/plain": [
       "1000"
      ]
     },
     "execution_count": 13,
     "metadata": {},
     "output_type": "execute_result"
    }
   ],
   "source": [
    "data.dropna(inplace=True)\n",
    "len(data)"
   ]
  },
  {
   "cell_type": "code",
   "execution_count": 21,
   "metadata": {},
   "outputs": [
    {
     "data": {
      "text/html": [
       "<div>\n",
       "<style scoped>\n",
       "    .dataframe tbody tr th:only-of-type {\n",
       "        vertical-align: middle;\n",
       "    }\n",
       "\n",
       "    .dataframe tbody tr th {\n",
       "        vertical-align: top;\n",
       "    }\n",
       "\n",
       "    .dataframe thead th {\n",
       "        text-align: right;\n",
       "    }\n",
       "</style>\n",
       "<table border=\"1\" class=\"dataframe\">\n",
       "  <thead>\n",
       "    <tr style=\"text-align: right;\">\n",
       "      <th></th>\n",
       "      <th>loyalty1</th>\n",
       "      <th>loyalty2</th>\n",
       "      <th>loyalty3</th>\n",
       "    </tr>\n",
       "  </thead>\n",
       "  <tbody>\n",
       "    <tr>\n",
       "      <th>loyalty1</th>\n",
       "      <td>1.000</td>\n",
       "      <td>0.396</td>\n",
       "      <td>0.499</td>\n",
       "    </tr>\n",
       "    <tr>\n",
       "      <th>loyalty2</th>\n",
       "      <td>0.396</td>\n",
       "      <td>1.000</td>\n",
       "      <td>0.574</td>\n",
       "    </tr>\n",
       "    <tr>\n",
       "      <th>loyalty3</th>\n",
       "      <td>0.499</td>\n",
       "      <td>0.574</td>\n",
       "      <td>1.000</td>\n",
       "    </tr>\n",
       "  </tbody>\n",
       "</table>\n",
       "</div>"
      ],
      "text/plain": [
       "          loyalty1  loyalty2  loyalty3\n",
       "loyalty1     1.000     0.396     0.499\n",
       "loyalty2     0.396     1.000     0.574\n",
       "loyalty3     0.499     0.574     1.000"
      ]
     },
     "execution_count": 21,
     "metadata": {},
     "output_type": "execute_result"
    }
   ],
   "source": [
    "# Calculate the correlation bwteen them\n",
    "corr_map = data[['loyalty1', 'loyalty2', 'loyalty3']].corr().round(3)\n",
    "corr_map"
   ]
  },
  {
   "cell_type": "code",
   "execution_count": 24,
   "metadata": {},
   "outputs": [
    {
     "data": {
      "text/plain": [
       "(array([0.5, 1.5, 2.5]), <a list of 3 Text xticklabel objects>)"
      ]
     },
     "execution_count": 24,
     "metadata": {},
     "output_type": "execute_result"
    },
    {
     "data": {
      "image/png": "[encoded data removed]",
      "text/plain": [
       "<Figure size 432x288 with 3 Axes>"
      ]
     },
     "metadata": {
      "needs_background": "light"
     },
     "output_type": "display_data"
    }
   ],
   "source": [
    "# Visualize the correlations\n",
    "sns.heatmap(corr_map, vmax=1.0)\n",
    "plt.title('Correlation matrix for loyalty features')\n",
    "plt.yticks(rotation='horizontal')\n",
    "plt.xticks(rotation='vertical')"
   ]
  },
  {
   "cell_type": "code",
   "execution_count": 27,
   "metadata": {},
   "outputs": [
    {
     "data": {
      "image/png": "[encoded data removed]",
      "text/plain": [
       "<Figure size 360x360 with 1 Axes>"
      ]
     },
     "metadata": {
      "needs_background": "light"
     },
     "output_type": "display_data"
    },
    {
     "data": {
      "image/png": "[encoded data removed]",
      "text/plain": [
       "<Figure size 360x360 with 1 Axes>"
      ]
     },
     "metadata": {
      "needs_background": "light"
     },
     "output_type": "display_data"
    },
    {
     "data": {
      "image/png": "[encoded data removed]",
      "text/plain": [
       "<Figure size 360x360 with 1 Axes>"
      ]
     },
     "metadata": {
      "needs_background": "light"
     },
     "output_type": "display_data"
    }
   ],
   "source": [
    "# Create scatter plots of each pairwise combination of loyalty variables\n",
    "def plot_scatter_for_two(var1, var2, data):\n",
    "    sns.lmplot(var1, var2, data, x_jitter=.15, y_jitter=.15, scatter_kws={'alpha':0.2}, fit_reg = False)\n",
    "    \n",
    "plot_scatter_for_two('loyalty1', 'loyalty2', data)\n",
    "plot_scatter_for_two('loyalty1', 'loyalty3', data)\n",
    "plot_scatter_for_two('loyalty2', 'loyalty3', data)"
   ]
  },
  {
   "cell_type": "markdown",
   "metadata": {},
   "source": [
    "All of the graphs look about the same. It is always good to inspect the\n",
    "plots, as we know that non-linearity can weaken our correlations. Here,\n",
    "we see evidence that each measure is correlated linearly; the\n",
    "associations are simply underwhelming.\n",
    "\n",
    "We can easily compute the confidence intervals of these correlation coefficients. \n",
    "1. Transform the correlation from the initial space which we call r to a transformed space z. The distribution of errors is Normal in this transformed space. \n",
    "2. Compute the CI in the transformed space.\n",
    "3. Transform back to the original space."
   ]
  },
  {
   "cell_type": "code",
   "execution_count": 29,
   "metadata": {},
   "outputs": [
    {
     "name": "stdout",
     "output_type": "stream",
     "text": [
      "\n",
      "For loyalty1 vs. loyalty2\n",
      "Correlation = 0.396 with CI of 0.342 to 0.447\n",
      "\n",
      "For loyalty1 vs. loyalty3\n",
      "Correlation = 0.499 with CI of 0.451 to 0.544\n",
      "\n",
      "For loyalty2 vs. loyalty3\n",
      "Correlation = 0.574 with CI of 0.531 to 0.614\n"
     ]
    }
   ],
   "source": [
    "def r_z(r):\n",
    "    return math.log((1 + r) / (1 - r)) / 2.0\n",
    "\n",
    "def z_r(z):\n",
    "    e = math.exp(2 * z)\n",
    "    return((e - 1) / (e + 1))\n",
    "\n",
    "def r_conf_int(r, alpha, n):\n",
    "    # Transform r to z space\n",
    "    z = r_z(r)\n",
    "    # Compute standard error and critcal value in z\n",
    "    se = 1.0 / math.sqrt(n - 3)\n",
    "    z_crit = ss.norm.ppf(1 - alpha/2)\n",
    "\n",
    "    ## Compute CIs with transform to r\n",
    "    lo = z_r(z - z_crit * se)\n",
    "    hi = z_r(z + z_crit * se)\n",
    "    return (lo, hi)\n",
    "\n",
    "print('\\nFor loyalty1 vs. loyalty2')\n",
    "corr_mat = np.array(corr_map)\n",
    "conf_ints = r_conf_int(corr_mat[1,0], 0.05, 1000)\n",
    "print('Correlation = %4.3f with CI of %4.3f to %4.3f' % (corr_mat[1,0], conf_ints[0], conf_ints[1]))\n",
    "print('\\nFor loyalty1 vs. loyalty3')\n",
    "conf_ints = r_conf_int(corr_mat[2,0], 0.05, 1000)\n",
    "print('Correlation = %4.3f with CI of %4.3f to %4.3f' % (corr_mat[2,0], conf_ints[0], conf_ints[1]))\n",
    "print('\\nFor loyalty2 vs. loyalty3')\n",
    "conf_ints = r_conf_int(corr_mat[2,1], 0.05, 1000)\n",
    "print('Correlation = %4.3f with CI of %4.3f to %4.3f' % (corr_mat[2,1], conf_ints[0], conf_ints[1]))"
   ]
  },
  {
   "cell_type": "markdown",
   "metadata": {},
   "source": [
    "You can see that the CIs of all the correlation coefficients are relatively small compared to the correlation coefficients. This indicates that these coefficients are statistically significant."
   ]
  },
  {
   "cell_type": "code",
   "execution_count": null,
   "metadata": {},
   "outputs": [],
   "source": []
  }
 ],
 "metadata": {
  "kernelspec": {
   "display_name": "Python 3",
   "language": "python",
   "name": "python3"
  },
  "language_info": {
   "codemirror_mode": {
    "name": "ipython",
    "version": 3
   },
   "file_extension": ".py",
   "mimetype": "text/x-python",
   "name": "python",
   "nbconvert_exporter": "python",
   "pygments_lexer": "ipython3",
   "version": "3.7.6"
  }
 },
 "nbformat": 4,
 "nbformat_minor": 4
}
